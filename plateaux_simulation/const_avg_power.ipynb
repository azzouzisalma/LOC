{
 "cells": [
  {
   "cell_type": "code",
   "execution_count": 1,
   "source": [
    "import numpy as np\n",
    "import random \n",
    "import torch\n",
    "import torch.nn as nn\n",
    "import torch.optim as optim\n",
    "import matplotlib.pyplot as plt\n",
    "from scipy.ndimage import gaussian_filter1d\n",
    "from scipy.special import erfc\n",
    "from  math import log10, sqrt"
   ],
   "outputs": [],
   "metadata": {}
  },
  {
   "cell_type": "code",
   "execution_count": 2,
   "source": [
    "#%% Parameters\n",
    "\n",
    "k = 4\n",
    "n = 2\n",
    "M = 2**k\n",
    "R = k/n\n",
    "\n",
    "#nb = 2  #nb bits/symboles (pour comparer avec différentes modulations)"
   ],
   "outputs": [],
   "metadata": {}
  },
  {
   "cell_type": "code",
   "execution_count": 3,
   "source": [
    "class Normalization2(nn.Module):\n",
    "        def __init__(self):\n",
    "            super().__init__()\n",
    "\n",
    "        def forward(self,x):\n",
    "            y = torch.flatten(x)\n",
    "            #m = torch.mean(y)\n",
    "            #s = torch.std(y)\n",
    "            s = torch.sqrt(torch.mean(y**2))\n",
    "            x  = x/(sqrt(2)*s)\n",
    "            \n",
    "            #print((torch.sqrt(torch.mean(torch.flatten(x)**2))))\n",
    "            return x\n",
    "\n",
    "#%% NN\n",
    "class Normalization(nn.Module):\n",
    "        def __init__(self):\n",
    "            super().__init__()\n",
    "\n",
    "        def forward(self,x):\n",
    "            x = np.sqrt(x.size()[1])*x/(torch.norm(x,dim=1,p=2,keepdim=True))\n",
    "            return x\n",
    "\n",
    "class Net(nn.Module):\n",
    "    def __init__(self, Es_N0_dB):\n",
    "        super(Net, self).__init__()\n",
    "        \n",
    "        self.layer_Relu = nn.Linear(M,M)\n",
    "        self.layer_linear = nn.Linear(M,n)\n",
    "        self.set_sigma(Es_N0_dB)\n",
    "\n",
    "        self.decoder = torch.nn.Sequential(\n",
    "            nn.Linear(n,M),\n",
    "            nn.ReLU(),\n",
    "            nn.Linear(M,M)\n",
    "        )        \n",
    "\n",
    "    def encoder(self,x):\n",
    "        x = torch.relu(self.layer_Relu(x))\n",
    "        x = self.layer_linear(x)\n",
    "        \n",
    "        # Calcule la moyenne et la variance sur tout le codebook\n",
    "        C = torch.relu(self.layer_Relu(torch.eye(M)))\n",
    "        C = self.layer_linear(C)\n",
    "        m = torch.mean(torch.flatten(C))\n",
    "        s = sqrt(2)*torch.std(torch.flatten(C))\n",
    "        \n",
    "        x = (x - m)/s\n",
    "        return x\n",
    "\n",
    "\n",
    "        # self.encoder = torch.nn.Sequential(\n",
    "        #     nn.Linear(M,M),\n",
    "        #     nn.ReLU(),\n",
    "        #     nn.Linear(M,n),\n",
    "        #     Normalization2()\n",
    "        # )\n",
    "\n",
    "    def set_sigma(self, Es_N0_dB):\n",
    "        self.sigma = (1/np.sqrt(2*10**(Es_N0_dB/10)))\n",
    "\n",
    "    def forward(self,x):\n",
    "        x = self.encoder(x)\n",
    "        x = self.channel(x)\n",
    "        x = self.decoder(x)\n",
    "        return x\n",
    "\n",
    "    def channel(self,x):\n",
    "        sampled_noise = self.sigma*torch.randn(x.size())\n",
    "        x += sampled_noise\n",
    "        return x\n",
    "        \n",
    "def generate_data(M,batch_size):\n",
    "    s = np.random.randint(M,size=(batch_size),dtype=np.int64)\n",
    "    data = torch.zeros([batch_size,M])\n",
    "    for i in range(batch_size):\n",
    "        data[i][s[i]]=1\n",
    "    return data,torch.from_numpy(s)"
   ],
   "outputs": [],
   "metadata": {}
  },
  {
   "cell_type": "code",
   "execution_count": 4,
   "source": [
    "#%% Choosing lr\n",
    "Eb_N0_dB_train = 7\n",
    "Es_N0_dB_train = Eb_N0_dB_train + 10*log10(R)\n",
    "net = Net(Es_N0_dB_train)\n",
    "\n",
    "n_epochs= 100\n",
    "batch_size = 1000\n",
    "const_list = []\n",
    "\n",
    "Loss = torch.zeros(n_epochs)\n",
    "criterion = nn.CrossEntropyLoss()\n",
    "\n",
    "optimizer = optim.Adam(net.parameters(), lr=0.001)\n",
    "for i in range(n_epochs):\n",
    "    for j in range(100):\n",
    "        input_data, label = generate_data(M,batch_size)\n",
    "        output = net(input_data)\n",
    "        # Backpropagate gradient\n",
    "        loss = criterion(output,label)\n",
    "        loss.backward()\n",
    "        optimizer.step()\n",
    "        optimizer.zero_grad()\n",
    "\n",
    "    Const = net.encoder(torch.eye(M))\n",
    "    const_list.append(Const)\n",
    "    Loss[i]=loss\n",
    "\n",
    "        \n",
    "Loss_tr = Loss.detach().numpy()\n",
    "plt.figure()\n",
    "plt.plot(Loss_tr)\n",
    "plt.yscale('log')\n",
    "plt.ylabel(\"Loss\")\n",
    "plt.xlabel(\"lr\")\n",
    "plt.grid(True,which=\"both\", linestyle='--')\n",
    "plt.show()"
   ],
   "outputs": [
    {
     "output_type": "display_data",
     "data": {
      "image/png": "[encoded data removed]",
      "text/plain": [
       "<Figure size 432x288 with 1 Axes>"
      ]
     },
     "metadata": {
      "needs_background": "light"
     }
    }
   ],
   "metadata": {}
  },
  {
   "cell_type": "code",
   "execution_count": 5,
   "source": [
    "torch.save(const_list,'const_avg_pow.pt')"
   ],
   "outputs": [],
   "metadata": {}
  },
  {
   "cell_type": "code",
   "execution_count": 6,
   "source": [
    "constellation= np.array(())\n",
    "for m in range(M):\n",
    "    input_data = torch.zeros([1,M]) #Hot vector\n",
    "    input_data[0][m]= 1\n",
    "    c = net.encoder(input_data)\n",
    "\n",
    "    constellation = np.concatenate((constellation, c.detach().numpy()[0,:]),axis=0)\n",
    "plt.figure(figsize = (5, 5))\n",
    "plt.ylabel(\"x\")\n",
    "plt.xlabel(\"y\")\n",
    "plt.plot(constellation[0::2],constellation[1::2],'.')\n",
    "plt.grid()\n",
    "plt.show()\n"
   ],
   "outputs": [
    {
     "output_type": "display_data",
     "data": {
      "image/png": "[encoded data removed]",
      "text/plain": [
       "<Figure size 360x360 with 1 Axes>"
      ]
     },
     "metadata": {
      "needs_background": "light"
     }
    }
   ],
   "metadata": {}
  },
  {
   "cell_type": "code",
   "execution_count": 10,
   "source": [
    "plt.hist(constellation[0::2],20)"
   ],
   "outputs": [
    {
     "output_type": "execute_result",
     "data": {
      "text/plain": [
       "(array([1., 2., 0., 0., 0., 0., 4., 0., 1., 0., 0., 1., 2., 2., 0., 0., 0.,\n",
       "        1., 1., 1.]),\n",
       " array([-1.1556133 , -1.03899134, -0.92236937, -0.80574741, -0.68912544,\n",
       "        -0.57250348, -0.45588151, -0.33925955, -0.22263758, -0.10601562,\n",
       "         0.01060635,  0.12722831,  0.24385028,  0.36047224,  0.47709421,\n",
       "         0.59371617,  0.71033814,  0.8269601 ,  0.94358207,  1.06020404,\n",
       "         1.176826  ]),\n",
       " <BarContainer object of 20 artists>)"
      ]
     },
     "metadata": {},
     "execution_count": 10
    },
    {
     "output_type": "display_data",
     "data": {
      "image/png": "[encoded data removed]",
      "text/plain": [
       "<Figure size 432x288 with 1 Axes>"
      ]
     },
     "metadata": {
      "needs_background": "light"
     }
    }
   ],
   "metadata": {}
  }
 ],
 "metadata": {
  "interpreter": {
   "hash": "4e1d9a8909477db77738c33245c29c7265277ef753467dede8cf3f814cde494e"
  },
  "kernelspec": {
   "name": "python3",
   "display_name": "Python 3.9.7 64-bit"
  },
  "language_info": {
   "codemirror_mode": {
    "name": "ipython",
    "version": 3
   },
   "file_extension": ".py",
   "mimetype": "text/x-python",
   "name": "python",
   "nbconvert_exporter": "python",
   "pygments_lexer": "ipython3",
   "version": "3.9.7"
  },
  "orig_nbformat": 4
 },
 "nbformat": 4,
 "nbformat_minor": 2
}