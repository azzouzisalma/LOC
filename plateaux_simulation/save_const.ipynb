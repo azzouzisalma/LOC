{
 "cells": [
  {
   "cell_type": "code",
   "execution_count": 1,
   "source": [
    "import numpy as np\n",
    "import random \n",
    "import torch\n",
    "import torch.nn as nn\n",
    "import torch.optim as optim\n",
    "import matplotlib.pyplot as plt\n",
    "from scipy.ndimage import gaussian_filter1d\n",
    "from scipy.special import erfc\n",
    "from  math import log10\n",
    "import matplotlib.animation as animation\n",
    "from IPython.display import HTML"
   ],
   "outputs": [],
   "metadata": {}
  },
  {
   "cell_type": "code",
   "execution_count": 2,
   "source": [
    "#%% Parameters\n",
    "\n",
    "k = 2\n",
    "n = 2\n",
    "M = 2**k\n",
    "R = k/n\n",
    "\n",
    "#nb = 2  #nb bits/symboles (pour comparer avec différentes modulations)"
   ],
   "outputs": [],
   "metadata": {}
  },
  {
   "cell_type": "code",
   "execution_count": 3,
   "source": [
    "#%% NN\n",
    "class Normalization(nn.Module):\n",
    "        def __init__(self):\n",
    "            super().__init__()\n",
    "\n",
    "        def forward(self,x):\n",
    "            x = np.sqrt(x.size()[1])*x/(torch.norm(x,dim=1,p=2,keepdim=True))\n",
    "            return x\n",
    "\n",
    "class Net(nn.Module):\n",
    "    def __init__(self, Es_N0_dB):\n",
    "        super(Net, self).__init__()\n",
    "\n",
    "        self.encoder = torch.nn.Sequential(\n",
    "            nn.Linear(M,M),\n",
    "            nn.ReLU(),\n",
    "            nn.Linear(M,n),\n",
    "            Normalization()\n",
    "        )\n",
    "        self.decoder = torch.nn.Sequential(\n",
    "            nn.Linear(n,M),\n",
    "            nn.ReLU(),\n",
    "            nn.Linear(M,M)\n",
    "        )        \n",
    "\n",
    "        self.set_sigma(Es_N0_dB)\n",
    "\n",
    "    def set_sigma(self, Es_N0_dB):\n",
    "        self.sigma = (1/np.sqrt(2*10**(Es_N0_dB/10)))\n",
    "\n",
    "    def forward(self,x):\n",
    "        x = self.encoder(x)\n",
    "        x = self.channel(x)\n",
    "        x = self.decoder(x)\n",
    "        return x\n",
    "\n",
    "    def channel(self,x):\n",
    "        sampled_noise = self.sigma*torch.randn(x.size())\n",
    "        x += sampled_noise\n",
    "        return x\n",
    "        \n",
    "def generate_data(M,batch_size):\n",
    "    s = np.random.randint(M,size=(batch_size),dtype=np.int64)\n",
    "    data = torch.zeros([batch_size,M])\n",
    "    for i in range(batch_size):\n",
    "        data[i][s[i]]=1\n",
    "    return data,torch.from_numpy(s)"
   ],
   "outputs": [],
   "metadata": {}
  },
  {
   "cell_type": "code",
   "execution_count": 4,
   "source": [
    "#%% Choosing lr\n",
    "Eb_N0_dB_train = 7\n",
    "Es_N0_dB_train = Eb_N0_dB_train + 10*log10(R)\n",
    "net = Net(Es_N0_dB_train)\n",
    "\n",
    "n_epochs= 50\n",
    "batch_size = 1000\n",
    "\n",
    "Loss = torch.zeros(n_epochs)\n",
    "criterion = nn.CrossEntropyLoss()\n",
    "L = [] \n",
    "optimizer = optim.Adam(net.parameters(), lr=0.001)\n",
    "for i in range(n_epochs):\n",
    "    for j in range(100):\n",
    "        input_data, label = generate_data(M,batch_size)\n",
    "        output = net(input_data)\n",
    "        # Backpropagate gradient\n",
    "        #criterion = nn.MSELoss()\n",
    "        loss = criterion(output,label)\n",
    "        loss.backward()\n",
    "        optimizer.step()\n",
    "        optimizer.zero_grad()\n",
    "    Loss[i]=loss\n",
    "    Const = net.encoder(torch.eye(M))\n",
    "    L.append(Const)\n",
    "        # Update weights and biases\n",
    "        #optimizer = optim.SGD(net.parameters(), lr=Lr[i])\n",
    "        \n",
    "#Loss_tr = gaussian_filter1d(Loss.detach().numpy(), sigma=5)\n",
    "Loss_tr = Loss.detach().numpy()\n",
    "plt.figure()\n",
    "plt.plot(Loss_tr)\n",
    "plt.yscale('log')\n",
    "plt.ylabel(\"Loss\")\n",
    "plt.xlabel(\"lr\")\n",
    "plt.grid(True,which=\"both\", linestyle='--')\n",
    "plt.show()"
   ],
   "outputs": [
    {
     "output_type": "display_data",
     "data": {
      "image/png": "[encoded data removed]",
      "text/plain": [
       "<Figure size 432x288 with 1 Axes>"
      ]
     },
     "metadata": {
      "needs_background": "light"
     }
    }
   ],
   "metadata": {}
  },
  {
   "cell_type": "code",
   "execution_count": 5,
   "source": [
    "torch.save(L,'const_2_2.pt')\n",
    "print(len(L))\n",
    "print(L[0])"
   ],
   "outputs": [
    {
     "output_type": "stream",
     "name": "stdout",
     "text": [
      "50\n",
      "tensor([[1.3978, 0.2146],\n",
      "        [0.9992, 1.0008],\n",
      "        [1.3647, 0.3708],\n",
      "        [0.3724, 1.3643]], grad_fn=<DivBackward0>)\n"
     ]
    }
   ],
   "metadata": {}
  },
  {
   "cell_type": "code",
   "execution_count": 8,
   "source": [
    "#%% Testing\n",
    "Eb_N0_dB = np.linspace(0,10,num=11)\n",
    "Pe = np.linspace(0,0,num=len(Eb_N0_dB))\n",
    "P = 1000\n",
    "for i in range(len(Eb_N0_dB)):\n",
    "    Es_N0_dB = Eb_N0_dB[i] + 10*log10(R)\n",
    "    net.set_sigma(Es_N0_dB)\n",
    "    nb_mes = 0\n",
    "    nb_mes_false = 0\n",
    "    while(nb_mes_false < 100):\n",
    "        data,s = generate_data(M,P)\n",
    "\n",
    "        output = net.encoder(data)\n",
    "        output = net.channel(output)\n",
    "        output = net.decoder(output)\n",
    "        nb_mes += P\n",
    "\n",
    "        nb_mes_false += torch.sum(s != torch.argmax(output,dim=1))\n",
    "            \n",
    "    Pe[i] = nb_mes_false/nb_mes\n",
    "    print(Eb_N0_dB[i], Pe[i])"
   ],
   "outputs": [
    {
     "output_type": "stream",
     "name": "stdout",
     "text": [
      "0.0 0.6050000190734863\n",
      "1.0 0.49300000071525574\n",
      "2.0 0.4650000035762787\n",
      "3.0 0.4359999895095825\n",
      "4.0 0.4020000100135803\n",
      "5.0 0.3240000009536743\n",
      "6.0 0.28200000524520874\n",
      "7.0 0.2290000021457672\n",
      "8.0 0.1770000010728836\n",
      "9.0 0.10199999809265137\n",
      "10.0 0.08900000154972076\n"
     ]
    }
   ],
   "metadata": {}
  },
  {
   "cell_type": "code",
   "execution_count": 9,
   "source": [
    "#%% Figures\n",
    "plt.figure()\n",
    "plt.plot(Eb_N0_dB,Pe)\n",
    "Pb = 0.5*erfc(10**(Eb_N0_dB/20))\n",
    "P  = 1-(1-Pb)**n\n",
    "plt.plot(Eb_N0_dB,P)\n",
    "plt.yscale('log')\n",
    "plt.ylabel(\"BLER\")\n",
    "plt.xlabel(\"Eb_N0 in dB\")\n",
    "plt.grid(True,which=\"both\", linestyle='--')\n",
    "plt.show()"
   ],
   "outputs": [
    {
     "output_type": "display_data",
     "data": {
      "image/png": "[encoded data removed]",
      "text/plain": [
       "<Figure size 432x288 with 1 Axes>"
      ]
     },
     "metadata": {
      "needs_background": "light"
     }
    }
   ],
   "metadata": {}
  },
  {
   "cell_type": "code",
   "execution_count": 10,
   "source": [
    "print(net.encoder(torch.eye(M)))\n"
   ],
   "outputs": [
    {
     "output_type": "stream",
     "name": "stdout",
     "text": [
      "tensor([[ 0.5748,  1.2921],\n",
      "        [ 1.0199,  0.9797],\n",
      "        [-1.4135,  0.0450],\n",
      "        [ 0.0564, -1.4131],\n",
      "        [-1.3091, -0.5350],\n",
      "        [ 1.3092,  0.5347],\n",
      "        [ 0.0566,  1.4131],\n",
      "        [ 0.5967, -1.2822],\n",
      "        [-0.9879, -1.0119],\n",
      "        [-0.4881,  1.3273],\n",
      "        [ 1.0295, -0.9696],\n",
      "        [-0.9598,  1.0386],\n",
      "        [ 1.4140,  0.0248],\n",
      "        [ 1.3172, -0.5149],\n",
      "        [-0.5114, -1.3185],\n",
      "        [-1.2903,  0.5789]], grad_fn=<DivBackward0>)\n"
     ]
    }
   ],
   "metadata": {}
  },
  {
   "cell_type": "code",
   "execution_count": 11,
   "source": [
    "constellation= np.array(())\n",
    "for m in range(M):\n",
    "    input_data = torch.zeros([1,M]) #Hot vector\n",
    "    input_data[0][m]= 1\n",
    "    c = net.encoder(input_data)\n",
    "\n",
    "    constellation = np.concatenate((constellation, c.detach().numpy()[0,:]),axis=0)\n",
    "plt.figure()\n",
    "plt.ylabel(\"x\")\n",
    "plt.xlabel(\"y\")\n",
    "plt.plot(constellation[0::2],constellation[1::2],'.')\n",
    "plt.grid()\n",
    "plt.show()\n"
   ],
   "outputs": [
    {
     "output_type": "display_data",
     "data": {
      "image/png": "[encoded data removed]",
      "text/plain": [
       "<Figure size 432x288 with 1 Axes>"
      ]
     },
     "metadata": {
      "needs_background": "light"
     }
    }
   ],
   "metadata": {}
  },
  {
   "cell_type": "code",
   "execution_count": 81,
   "source": [
    "plt.hist(constellation[0::2],20)"
   ],
   "outputs": [
    {
     "output_type": "execute_result",
     "data": {
      "text/plain": [
       "(array([ 8.,  9., 27., 46., 50., 61., 67., 98., 76., 94., 92., 93., 84.,\n",
       "        60., 59., 48., 26., 15.,  9.,  2.]),\n",
       " array([-2.45045233, -2.19632183, -1.94219134, -1.68806084, -1.43393035,\n",
       "        -1.17979985, -0.92566936, -0.67153887, -0.41740837, -0.16327788,\n",
       "         0.09085262,  0.34498311,  0.59911361,  0.8532441 ,  1.1073746 ,\n",
       "         1.36150509,  1.61563559,  1.86976608,  2.12389657,  2.37802707,\n",
       "         2.63215756]),\n",
       " <BarContainer object of 20 artists>)"
      ]
     },
     "metadata": {},
     "execution_count": 81
    },
    {
     "output_type": "display_data",
     "data": {
      "image/png": "[encoded data removed]",
      "text/plain": [
       "<Figure size 432x288 with 1 Axes>"
      ]
     },
     "metadata": {
      "needs_background": "light"
     }
    }
   ],
   "metadata": {}
  }
 ],
 "metadata": {
  "interpreter": {
   "hash": "4e1d9a8909477db77738c33245c29c7265277ef753467dede8cf3f814cde494e"
  },
  "kernelspec": {
   "name": "python3",
   "display_name": "Python 3.9.7 64-bit"
  },
  "language_info": {
   "codemirror_mode": {
    "name": "ipython",
    "version": 3
   },
   "file_extension": ".py",
   "mimetype": "text/x-python",
   "name": "python",
   "nbconvert_exporter": "python",
   "pygments_lexer": "ipython3",
   "version": "3.9.7"
  },
  "orig_nbformat": 4
 },
 "nbformat": 4,
 "nbformat_minor": 2
}